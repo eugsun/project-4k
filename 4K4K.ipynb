{
 "cells": [
  {
   "cell_type": "code",
   "execution_count": 2,
   "metadata": {},
   "outputs": [],
   "source": [
    "import numpy as np\n",
    "import matplotlib.pyplot as plt\n",
    "\n",
    "from scipy import stats"
   ]
  },
  {
   "cell_type": "markdown",
   "metadata": {},
   "source": [
    "## Step 1 - Get Unit Weight"
   ]
  },
  {
   "cell_type": "code",
   "execution_count": 3,
   "metadata": {},
   "outputs": [
    {
     "name": "stdout",
     "output_type": "stream",
     "text": [
      "shapes: (20, 1)\n"
     ]
    },
    {
     "data": {
      "text/plain": [
       "[<matplotlib.lines.Line2D at 0x11310f1d0>]"
      ]
     },
     "execution_count": 3,
     "metadata": {},
     "output_type": "execute_result"
    },
    {
     "data": {
      "image/png": "[encoded data removed]",
      "text/plain": [
       "<Figure size 432x288 with 1 Axes>"
      ]
     },
     "metadata": {},
     "output_type": "display_data"
    }
   ],
   "source": [
    "weights = np.array([[41, 43, 46, 45, 44, 47, 44, 30, 32, 32,\n",
    "                     43, 45, 35, 27, 21, 27, 46, 25, 35, 34,\n",
    "                    ]]\n",
    "                  ).transpose()\n",
    "numbers = np.array([[77, 81, 85, 82, 82, 88.5, 82, 55, 60, 60, \n",
    "                     80, 83, 65, 50, 39, 50, 85, 47, 65, 63,\n",
    "                    ]]\n",
    "                  ).transpose()\n",
    "print(\"shapes:\", weights.shape)\n",
    "\n",
    "fish_weights = weights/numbers\n",
    "plt.plot(fish_weights)"
   ]
  },
  {
   "cell_type": "code",
   "execution_count": 4,
   "metadata": {},
   "outputs": [
    {
     "data": {
      "text/plain": [
       "(array([4., 2., 0., 3., 4., 4., 1., 0., 1., 1.]),\n",
       " array([0.5308642 , 0.53265583, 0.53444746, 0.53623908, 0.53803071,\n",
       "        0.53982234, 0.54161397, 0.5434056 , 0.54519723, 0.54698886,\n",
       "        0.54878049]),\n",
       " <a list of 10 Patch objects>)"
      ]
     },
     "execution_count": 4,
     "metadata": {},
     "output_type": "execute_result"
    },
    {
     "data": {
      "image/png": "[encoded data removed]",
      "text/plain": [
       "<Figure size 432x288 with 1 Axes>"
      ]
     },
     "metadata": {},
     "output_type": "display_data"
    }
   ],
   "source": [
    "plt.hist(fish_weights, 10)"
   ]
  },
  {
   "cell_type": "code",
   "execution_count": 5,
   "metadata": {},
   "outputs": [
    {
     "name": "stdout",
     "output_type": "stream",
     "text": [
      "mean: 0.5378740636259465\n",
      "std: 0.004662838260396349\n",
      "min/max: 0.5308641975308642 0.5487804878048781\n"
     ]
    }
   ],
   "source": [
    "mu = fish_weights.mean()\n",
    "std = fish_weights.std()\n",
    "\n",
    "print(\"mean:\", mu)\n",
    "print(\"std:\", std)\n",
    "print(\"min/max:\", fish_weights.min(), fish_weights.max())"
   ]
  },
  {
   "cell_type": "code",
   "execution_count": 6,
   "metadata": {},
   "outputs": [
    {
     "name": "stdout",
     "output_type": "stream",
     "text": [
      "expected weight: 0.5454545454545454\n",
      "50% interval: (0.5252198529486629, 0.5656892379604279)\n",
      "sample size needed: 138.2976\n"
     ]
    }
   ],
   "source": [
    "expected_weight = 30/55  # according to the nutrition guide\n",
    "confidence_interval = stats.norm.interval(0.50, loc=expected_weight,\n",
    "                                          scale=0.03)  # just some guesses\n",
    "\n",
    "print(\"expected weight:\", expected_weight)\n",
    "print(\"50% interval:\", confidence_interval)\n",
    "\n",
    "n_needed = (2*1.96*0.03)**2 / 0.01**2  # 95% confidence on .03 std, < -.01 error\n",
    "print(\"sample size needed:\", n_needed)  # don't have time pho dis"
   ]
  },
  {
   "cell_type": "markdown",
   "metadata": {},
   "source": [
    "## Step 2 - Get Density"
   ]
  },
  {
   "cell_type": "code",
   "execution_count": 7,
   "metadata": {},
   "outputs": [
    {
     "name": "stdout",
     "output_type": "stream",
     "text": [
      "[[0.42982101 0.48456228 0.46221063]\n",
      " [0.44935833 0.47446724 0.46221063]\n",
      " [0.44935833 0.4879273  0.46221063]\n",
      " [0.43958967 0.49129231 0.45962845]\n",
      " [0.42982101 0.48456228 0.45962845]\n",
      " [0.45912699 0.47110222 0.45962845]\n",
      " [0.44935833 0.48119727 0.45962845]]\n",
      "container means: [0.44377624 0.4821587  0.4607351 ]\n"
     ]
    }
   ],
   "source": [
    "WEIGHT = mu\n",
    "#WEIGHT = expected_weight\n",
    "volumes = np.array([\n",
    "    [10.4 * 6.1 * 3],\n",
    "    [13 * 8.5 * 5], # [13 * 8.5 * 5.3],\n",
    "    [16 * 9 * 5]\n",
    "]).transpose()\n",
    "weights = np.array([\n",
    "    [44, 46, 46, 45, 44, 47, 46],\n",
    "    [144, 141, 145, 146, 144, 140, 143],\n",
    "    [179, 179, 179, 178, 178, 178, 178]\n",
    "]).transpose()\n",
    "cnumbers = weights / WEIGHT\n",
    "\n",
    "d = cnumbers / volumes\n",
    "container_means = d.mean(axis=0)\n",
    "print(d)\n",
    "print(\"container means:\", container_means)"
   ]
  },
  {
   "cell_type": "code",
   "execution_count": 8,
   "metadata": {},
   "outputs": [
    {
     "name": "stdout",
     "output_type": "stream",
     "text": [
      "mean: 0.462223347183501\n",
      "std: 0.01723460541842234\n",
      "min/max: 0.42982101403693374 0.49129231456850464\n",
      "interval: (0.45059878248010127, 0.47384791188690073)\n"
     ]
    }
   ],
   "source": [
    "print(\"mean:\", d.mean())\n",
    "print(\"std:\", d.std())\n",
    "print(\"min/max:\", d.min(), d.max())\n",
    "\n",
    "interval = stats.norm.interval(0.5, loc=d.mean(), scale=d.std())\n",
    "print(\"interval:\", interval)"
   ]
  },
  {
   "cell_type": "markdown",
   "metadata": {},
   "source": [
    "## Step 3 - Estimate"
   ]
  },
  {
   "cell_type": "code",
   "execution_count": 15,
   "metadata": {},
   "outputs": [
    {
     "name": "stdout",
     "output_type": "stream",
     "text": [
      "per-container estimates: [4051.18893345 4401.57855743 4206.00465143]\n",
      "overall estimate: 4219.5907141034595\n",
      "guess interval: [4107.82010582 4331.65289798]\n",
      "GUESSES: [4100, 4132, 4164, 4196, 4228, 4260, 4292, 4324]\n"
     ]
    }
   ],
   "source": [
    "tank_volume = 21.5 * 22 * 19.3\n",
    "\n",
    "#tank_interval = np.array(\n",
    "#    stats.norm.interval(.80, loc=tank_volume, scale=200))\n",
    "tank_interval = np.array(\n",
    "    stats.norm.interval(.05, loc=tank_volume, scale=200))\n",
    "\n",
    "pce = container_means * tank_volume\n",
    "print(\"per-container estimates:\", pce)\n",
    "print(\"overall estimate:\", pce.mean())\n",
    "\n",
    "gint = interval * tank_interval\n",
    "print(\"guess interval:\", gint);\n",
    "\n",
    "\n",
    "gint = (4100, 4330)\n",
    "step = (gint[1] - gint[0]) / 7\n",
    "guesses = range(int(gint[0]), int(gint[1])+1, int(step))\n",
    "print(\"GUESSES:\", [i for i in guesses])"
   ]
  },
  {
   "cell_type": "markdown",
   "metadata": {},
   "source": [
    "## Step 4 - Pick Up the TV\n",
    "\n",
    "... or not."
   ]
  },
  {
   "cell_type": "code",
   "execution_count": null,
   "metadata": {},
   "outputs": [],
   "source": []
  },
  {
   "cell_type": "code",
   "execution_count": null,
   "metadata": {},
   "outputs": [],
   "source": []
  }
 ],
 "metadata": {
  "kernelspec": {
   "display_name": "Python 3",
   "language": "python",
   "name": "python3"
  },
  "language_info": {
   "codemirror_mode": {
    "name": "ipython",
    "version": 3
   },
   "file_extension": ".py",
   "mimetype": "text/x-python",
   "name": "python",
   "nbconvert_exporter": "python",
   "pygments_lexer": "ipython3",
   "version": "3.6.5"
  }
 },
 "nbformat": 4,
 "nbformat_minor": 2
}
